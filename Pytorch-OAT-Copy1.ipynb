{
 "cells": [
  {
   "cell_type": "code",
   "execution_count": 1,
   "id": "5dec0bdc",
   "metadata": {},
   "outputs": [],
   "source": [
    "import torch\n",
    "import torch.nn as nn\n",
    "import torch.optim as optim\n",
    "import torchvision\n",
    "import torchvision.transforms as transforms\n",
    "import pandas as pd\n",
    "import numpy as np"
   ]
  },
  {
   "cell_type": "code",
   "execution_count": 2,
   "id": "252caba4",
   "metadata": {},
   "outputs": [
    {
     "name": "stdout",
     "output_type": "stream",
     "text": [
      "Connecting to PI API using 'basic authentication'\n"
     ]
    }
   ],
   "source": [
    "%load_ext autoreload\n",
    "%autoreload 2\n",
    "\n",
    "import matplotlib.pyplot as plt\n",
    "import seaborn as sns\n",
    "from ecotools.pi_client import pi_client\n",
    "\n",
    "sns.set('paper')\n",
    "# Option Paramater time_zone\n",
    "# default timezone is time_zone='America/Los_Angeles' use https://www.iana.org/time-zones \n",
    "\n",
    "#pi = pi_client(username= r'ad3\\username')\n",
    "pi = pi_client(username = r'ad3\\sbharadw')"
   ]
  },
  {
   "cell_type": "code",
   "execution_count": 3,
   "id": "2a2247df",
   "metadata": {},
   "outputs": [],
   "source": [
    "tags = ['CCAH_ChilledWater_Demand_kBtu', 'aiTIT4045']"
   ]
  },
  {
   "cell_type": "code",
   "execution_count": 4,
   "id": "10eab507",
   "metadata": {},
   "outputs": [
    {
     "name": "stdout",
     "output_type": "stream",
     "text": [
      "14:27:31: Sending API request... Chunk 1 of 1\n",
      "14:27:31: Response recieved for 2 tags! (0.8)\n"
     ]
    },
    {
     "data": {
      "text/html": [
       "<div>\n",
       "<style scoped>\n",
       "    .dataframe tbody tr th:only-of-type {\n",
       "        vertical-align: middle;\n",
       "    }\n",
       "\n",
       "    .dataframe tbody tr th {\n",
       "        vertical-align: top;\n",
       "    }\n",
       "\n",
       "    .dataframe thead th {\n",
       "        text-align: right;\n",
       "    }\n",
       "</style>\n",
       "<table border=\"1\" class=\"dataframe\">\n",
       "  <thead>\n",
       "    <tr style=\"text-align: right;\">\n",
       "      <th></th>\n",
       "      <th>CCAH_ChilledWater_Demand_kBtu</th>\n",
       "      <th>aiTIT4045</th>\n",
       "    </tr>\n",
       "    <tr>\n",
       "      <th>Timestamp</th>\n",
       "      <th></th>\n",
       "      <th></th>\n",
       "    </tr>\n",
       "  </thead>\n",
       "  <tbody>\n",
       "    <tr>\n",
       "      <th>2022-07-05 00:00:00</th>\n",
       "      <td>1110.775996</td>\n",
       "      <td>72.262881</td>\n",
       "    </tr>\n",
       "    <tr>\n",
       "      <th>2022-07-05 01:00:00</th>\n",
       "      <td>1106.332959</td>\n",
       "      <td>72.216921</td>\n",
       "    </tr>\n",
       "    <tr>\n",
       "      <th>2022-07-05 02:00:00</th>\n",
       "      <td>1041.997232</td>\n",
       "      <td>70.612774</td>\n",
       "    </tr>\n",
       "    <tr>\n",
       "      <th>2022-07-05 03:00:00</th>\n",
       "      <td>1070.060387</td>\n",
       "      <td>69.756020</td>\n",
       "    </tr>\n",
       "    <tr>\n",
       "      <th>2022-07-05 04:00:00</th>\n",
       "      <td>1058.919854</td>\n",
       "      <td>69.406466</td>\n",
       "    </tr>\n",
       "  </tbody>\n",
       "</table>\n",
       "</div>"
      ],
      "text/plain": [
       "                     CCAH_ChilledWater_Demand_kBtu  aiTIT4045\n",
       "Timestamp                                                    \n",
       "2022-07-05 00:00:00                    1110.775996  72.262881\n",
       "2022-07-05 01:00:00                    1106.332959  72.216921\n",
       "2022-07-05 02:00:00                    1041.997232  70.612774\n",
       "2022-07-05 03:00:00                    1070.060387  69.756020\n",
       "2022-07-05 04:00:00                    1058.919854  69.406466"
      ]
     },
     "execution_count": 4,
     "metadata": {},
     "output_type": "execute_result"
    }
   ],
   "source": [
    "start = '2022-07-05'\n",
    "end = '*'\n",
    "interval = '1h' # Can be \"min\" \"h\" \"d\"\n",
    "calculation = 'summary'\n",
    "summary_calc = 'average'\n",
    "weight = 'TimeWeighted'\n",
    "\n",
    "df = pi.get_stream_by_point(tags, start=start, end=end, interval=interval, calculation=calculation, _weight=weight, \n",
    "                            _summary_type = summary_calc)\n",
    "\n",
    "df.head()"
   ]
  },
  {
   "cell_type": "markdown",
   "id": "eecf12c8",
   "metadata": {},
   "source": [
    "## First Model (Demand vs OAT):"
   ]
  },
  {
   "cell_type": "code",
   "execution_count": 5,
   "id": "011ba1cb",
   "metadata": {},
   "outputs": [],
   "source": [
    "# Assuming 'df' contains the data obtained from the PI System\n",
    "\n",
    "# Preprocessing the data\n",
    "# We'll drop any rows with missing values\n",
    "df = df.dropna()\n",
    "\n",
    "# Splitting the data into input (features) and output (labels)\n",
    "inputs = df[['aiTIT4045']].values\n",
    "outputs = df[['CCAH_ChilledWater_Demand_kBtu']].values\n",
    "\n",
    "# Normalizing the data (scaling inputs to a range of 0 to 1)\n",
    "inputs = (inputs - inputs.min()) / (inputs.max() - inputs.min())\n",
    "outputs = (outputs - outputs.min()) / (outputs.max() - outputs.min())\n"
   ]
  },
  {
   "cell_type": "code",
   "execution_count": 6,
   "id": "2f856311",
   "metadata": {},
   "outputs": [
    {
     "ename": "NameError",
     "evalue": "name 'outputs2' is not defined",
     "output_type": "error",
     "traceback": [
      "\u001b[0;31m---------------------------------------------------------------------------\u001b[0m",
      "\u001b[0;31mNameError\u001b[0m                                 Traceback (most recent call last)",
      "\u001b[0;32m/var/folders/53/8t6dgh1x2jq_233lw32zczvr0000gn/T/ipykernel_30398/1450951985.py\u001b[0m in \u001b[0;36m<module>\u001b[0;34m\u001b[0m\n\u001b[1;32m      1\u001b[0m \u001b[0;31m# Converting numpy arrays to PyTorch tensors\u001b[0m\u001b[0;34m\u001b[0m\u001b[0;34m\u001b[0m\u001b[0m\n\u001b[1;32m      2\u001b[0m \u001b[0minputs\u001b[0m \u001b[0;34m=\u001b[0m \u001b[0mtorch\u001b[0m\u001b[0;34m.\u001b[0m\u001b[0mFloatTensor\u001b[0m\u001b[0;34m(\u001b[0m\u001b[0minputs\u001b[0m\u001b[0;34m)\u001b[0m\u001b[0;34m\u001b[0m\u001b[0;34m\u001b[0m\u001b[0m\n\u001b[0;32m----> 3\u001b[0;31m \u001b[0moutputs\u001b[0m \u001b[0;34m=\u001b[0m \u001b[0mtorch\u001b[0m\u001b[0;34m.\u001b[0m\u001b[0mFloatTensor\u001b[0m\u001b[0;34m(\u001b[0m\u001b[0moutputs2\u001b[0m\u001b[0;34m)\u001b[0m\u001b[0;34m\u001b[0m\u001b[0;34m\u001b[0m\u001b[0m\n\u001b[0m\u001b[1;32m      4\u001b[0m \u001b[0;34m\u001b[0m\u001b[0m\n\u001b[1;32m      5\u001b[0m \u001b[0;31m# Splitting the data into training and testing sets (80% train, 20% test)\u001b[0m\u001b[0;34m\u001b[0m\u001b[0;34m\u001b[0m\u001b[0m\n",
      "\u001b[0;31mNameError\u001b[0m: name 'outputs2' is not defined"
     ]
    }
   ],
   "source": [
    "# Converting numpy arrays to PyTorch tensors\n",
    "inputs = torch.FloatTensor(inputs)\n",
    "outputs = torch.FloatTensor(outputs2)\n",
    "\n",
    "# Splitting the data into training and testing sets (80% train, 20% test)\n",
    "train_size = int(0.8 * len(inputs))\n",
    "train_inputs, test_inputs = inputs[:train_size], inputs[train_size:]\n",
    "train_outputs, test_outputs = outputs[:train_size], outputs[train_size:]\n",
    "\n",
    "# Defining the neural network\n",
    "class SimpleNN(nn.Module):\n",
    "    def __init__(self):\n",
    "        super(SimpleNN, self).__init__()\n",
    "        self.fc1 = nn.Linear(1, 128)\n",
    "        self.relu = nn.ReLU()\n",
    "        self.fc2 = nn.Linear(128, 1)\n",
    "\n",
    "    def forward(self, x):\n",
    "        x = self.relu(self.fc1(x))\n",
    "        x = self.fc2(x)\n",
    "        return x\n",
    "\n",
    "# Instantiate the model\n",
    "net = SimpleNN()\n",
    "\n",
    "# Define the loss function and optimizer\n",
    "criterion = nn.MSELoss()\n",
    "optimizer = optim.Adam(net.parameters(), lr=0.01)\n",
    "\n",
    "# Training the model\n",
    "epochs = 100\n",
    "\n",
    "for epoch in range(epochs):\n",
    "    optimizer.zero_grad()\n",
    "    outputs = net(train_inputs)\n",
    "    loss = criterion(outputs, train_outputs)\n",
    "    loss.backward()\n",
    "    optimizer.step()\n",
    "\n",
    "    if epoch % 10 == 0:\n",
    "        print(f\"Epoch {epoch}, Loss: {loss.item():.6f}\")\n",
    "\n",
    "print(\"Training finished!\")\n"
   ]
  },
  {
   "cell_type": "code",
   "execution_count": null,
   "id": "657697dc",
   "metadata": {},
   "outputs": [],
   "source": [
    "# Testing the model\n",
    "net.eval()\n",
    "with torch.no_grad():\n",
    "    test_outputs_pred = net(test_inputs)\n",
    "\n",
    "# Converting predictions back to original scale (reverse normalization)\n",
    "test_outputs_pred = (test_outputs_pred * (outputs.max() - outputs.min())) + outputs.min()\n",
    "\n",
    "# Display the first few predictions and actual values\n",
    "predictions_df = pd.DataFrame({'Predicted': test_outputs_pred.view(-1).detach().numpy(),\n",
    "                               'Actual': test_outputs.view(-1).detach().numpy()})\n",
    "print(predictions_df.head())"
   ]
  },
  {
   "cell_type": "code",
   "execution_count": null,
   "id": "d8127bdc",
   "metadata": {},
   "outputs": [],
   "source": [
    "predictions_df.plot()"
   ]
  },
  {
   "cell_type": "code",
   "execution_count": null,
   "id": "a35e8c36",
   "metadata": {},
   "outputs": [],
   "source": [
    "from torchviz import make_dot\n",
    "\n",
    "net = SimpleNN()\n",
    "outputs = net(train_inputs)"
   ]
  },
  {
   "cell_type": "code",
   "execution_count": 7,
   "id": "cd56c625",
   "metadata": {},
   "outputs": [
    {
     "ename": "NameError",
     "evalue": "name 'make_dot' is not defined",
     "output_type": "error",
     "traceback": [
      "\u001b[0;31m---------------------------------------------------------------------------\u001b[0m",
      "\u001b[0;31mNameError\u001b[0m                                 Traceback (most recent call last)",
      "\u001b[0;32m/var/folders/53/8t6dgh1x2jq_233lw32zczvr0000gn/T/ipykernel_30398/607669051.py\u001b[0m in \u001b[0;36m<module>\u001b[0;34m\u001b[0m\n\u001b[0;32m----> 1\u001b[0;31m \u001b[0mmake_dot\u001b[0m\u001b[0;34m(\u001b[0m\u001b[0moutputs\u001b[0m\u001b[0;34m.\u001b[0m\u001b[0mmean\u001b[0m\u001b[0;34m(\u001b[0m\u001b[0;34m)\u001b[0m\u001b[0;34m,\u001b[0m \u001b[0mparams\u001b[0m\u001b[0;34m=\u001b[0m\u001b[0mdict\u001b[0m\u001b[0;34m(\u001b[0m\u001b[0mnet\u001b[0m\u001b[0;34m.\u001b[0m\u001b[0mnamed_parameters\u001b[0m\u001b[0;34m(\u001b[0m\u001b[0;34m)\u001b[0m\u001b[0;34m)\u001b[0m\u001b[0;34m)\u001b[0m\u001b[0;34m\u001b[0m\u001b[0;34m\u001b[0m\u001b[0m\n\u001b[0m",
      "\u001b[0;31mNameError\u001b[0m: name 'make_dot' is not defined"
     ]
    }
   ],
   "source": [
    "make_dot(outputs.mean(), params=dict(net.named_parameters()))"
   ]
  },
  {
   "cell_type": "code",
   "execution_count": 8,
   "id": "a5666981",
   "metadata": {},
   "outputs": [
    {
     "ename": "NameError",
     "evalue": "name 'make_dot' is not defined",
     "output_type": "error",
     "traceback": [
      "\u001b[0;31m---------------------------------------------------------------------------\u001b[0m",
      "\u001b[0;31mNameError\u001b[0m                                 Traceback (most recent call last)",
      "\u001b[0;32m/var/folders/53/8t6dgh1x2jq_233lw32zczvr0000gn/T/ipykernel_30398/2746542694.py\u001b[0m in \u001b[0;36m<module>\u001b[0;34m\u001b[0m\n\u001b[0;32m----> 1\u001b[0;31m \u001b[0mmake_dot\u001b[0m\u001b[0;34m(\u001b[0m\u001b[0moutputs\u001b[0m\u001b[0;34m.\u001b[0m\u001b[0mmean\u001b[0m\u001b[0;34m(\u001b[0m\u001b[0;34m)\u001b[0m\u001b[0;34m,\u001b[0m \u001b[0mparams\u001b[0m\u001b[0;34m=\u001b[0m\u001b[0mdict\u001b[0m\u001b[0;34m(\u001b[0m\u001b[0mnet\u001b[0m\u001b[0;34m.\u001b[0m\u001b[0mnamed_parameters\u001b[0m\u001b[0;34m(\u001b[0m\u001b[0;34m)\u001b[0m\u001b[0;34m)\u001b[0m\u001b[0;34m,\u001b[0m \u001b[0mshow_attrs\u001b[0m\u001b[0;34m=\u001b[0m\u001b[0;32mTrue\u001b[0m\u001b[0;34m,\u001b[0m \u001b[0mshow_saved\u001b[0m\u001b[0;34m=\u001b[0m\u001b[0;32mTrue\u001b[0m\u001b[0;34m)\u001b[0m\u001b[0;34m\u001b[0m\u001b[0;34m\u001b[0m\u001b[0m\n\u001b[0m",
      "\u001b[0;31mNameError\u001b[0m: name 'make_dot' is not defined"
     ]
    }
   ],
   "source": [
    "make_dot(outputs.mean(), params=dict(net.named_parameters()), show_attrs=True, show_saved=True)"
   ]
  },
  {
   "cell_type": "markdown",
   "id": "a4f6b69d",
   "metadata": {},
   "source": [
    "## Second Model (all inputs):"
   ]
  },
  {
   "cell_type": "code",
   "execution_count": 13,
   "id": "b97135db",
   "metadata": {},
   "outputs": [],
   "source": [
    "df.rename(columns = {'aiTIT4045':'OAT'}, inplace = True)\n",
    "df.rename(columns = {'CCAH_ChilledWater_Demand_kBtu':'Demand'}, inplace = True)\n",
    "df['month'] = df.index.month - 1\n",
    "df['hour'] = df.index.hour \n",
    "df['day'] = df.index.dayofweek\n",
    "df['CDH'] = 0 \n",
    "df['HDH'] = 0\n",
    "df.loc[df.OAT >= 65, 'CDH'] = df.loc[df.OAT >= 65, 'OAT']- 65\n",
    "df.loc[df.OAT < 65, 'HDH'] = 65 - df.loc[df.OAT < 65, 'OAT']\n",
    "df = pd.get_dummies(df, columns=['month','hour','day'])"
   ]
  },
  {
   "cell_type": "code",
   "execution_count": 14,
   "id": "6f580efe",
   "metadata": {},
   "outputs": [
    {
     "data": {
      "text/plain": [
       "Index(['Demand', 'OAT', 'CDH', 'HDH', 'month_0', 'month_1', 'month_2',\n",
       "       'month_3', 'month_4', 'month_5', 'month_6', 'month_7', 'month_8',\n",
       "       'month_9', 'month_10', 'month_11', 'hour_0', 'hour_1', 'hour_2',\n",
       "       'hour_3', 'hour_4', 'hour_5', 'hour_6', 'hour_7', 'hour_8', 'hour_9',\n",
       "       'hour_10', 'hour_11', 'hour_12', 'hour_13', 'hour_14', 'hour_15',\n",
       "       'hour_16', 'hour_17', 'hour_18', 'hour_19', 'hour_20', 'hour_21',\n",
       "       'hour_22', 'hour_23', 'day_0', 'day_1', 'day_2', 'day_3', 'day_4',\n",
       "       'day_5', 'day_6'],\n",
       "      dtype='object')"
      ]
     },
     "execution_count": 14,
     "metadata": {},
     "output_type": "execute_result"
    }
   ],
   "source": [
    "df.columns"
   ]
  },
  {
   "cell_type": "code",
   "execution_count": 15,
   "id": "cb470bce",
   "metadata": {},
   "outputs": [],
   "source": [
    "input_data = df[['Demand', 'OAT', 'CDH', 'HDH', 'month_0', 'month_1', 'month_2',\n",
    "       'month_3', 'month_4', 'month_5', 'month_6', 'month_7', 'month_8',\n",
    "       'month_9', 'month_10', 'month_11', 'hour_0', 'hour_1', 'hour_2',\n",
    "       'hour_3', 'hour_4', 'hour_5', 'hour_6', 'hour_7', 'hour_8', 'hour_9',\n",
    "       'hour_10', 'hour_11', 'hour_12', 'hour_13', 'hour_14', 'hour_15',\n",
    "       'hour_16', 'hour_17', 'hour_18', 'hour_19', 'hour_20', 'hour_21',\n",
    "       'hour_22', 'hour_23', 'day_0', 'day_1', 'day_2', 'day_3', 'day_4',\n",
    "       'day_5', 'day_6']].values"
   ]
  },
  {
   "cell_type": "code",
   "execution_count": 16,
   "id": "85f4cca3",
   "metadata": {},
   "outputs": [],
   "source": [
    "target_data = df['OAT'].values "
   ]
  },
  {
   "cell_type": "code",
   "execution_count": 17,
   "id": "4fe1ae16",
   "metadata": {},
   "outputs": [],
   "source": [
    "# Convert to PyTorch tensors\n",
    "input_tensor = torch.tensor(input_data, dtype=torch.float32)\n",
    "target_tensor = torch.tensor(target_data, dtype=torch.float32).view(-1, 1)"
   ]
  },
  {
   "cell_type": "code",
   "execution_count": 18,
   "id": "671eef80",
   "metadata": {},
   "outputs": [],
   "source": [
    "# Split the data into training and testing sets (adjust the test_size as needed)\n",
    "from sklearn.model_selection import train_test_split\n",
    "X_train, X_test, y_train, y_test = train_test_split(input_tensor, target_tensor, test_size=0.2, random_state=42)\n"
   ]
  },
  {
   "cell_type": "code",
   "execution_count": 19,
   "id": "75491c39",
   "metadata": {},
   "outputs": [],
   "source": [
    "# Define a neural network model\n",
    "class SimpleModel(nn.Module):\n",
    "    def __init__(self, input_size):\n",
    "        super(SimpleModel, self).__init__()\n",
    "        self.fc = nn.Linear(input_size, 1)  # Input size to 1 output\n",
    "    \n",
    "    def forward(self, x):\n",
    "        return self.fc(x)\n"
   ]
  },
  {
   "cell_type": "code",
   "execution_count": 20,
   "id": "a33a4ffc",
   "metadata": {},
   "outputs": [],
   "source": [
    "# Instantiate the model and loss function\n",
    "model = SimpleModel(input_size=input_data.shape[1])\n",
    "criterion = nn.MSELoss()  # Mean Squared Error loss\n",
    "optimizer = optim.Adam(model.parameters(), lr=0.001)  # Learning rate\n"
   ]
  },
  {
   "cell_type": "code",
   "execution_count": 21,
   "id": "48c8df59",
   "metadata": {},
   "outputs": [
    {
     "data": {
      "text/plain": [
       "<All keys matched successfully>"
      ]
     },
     "execution_count": 21,
     "metadata": {},
     "output_type": "execute_result"
    }
   ],
   "source": [
    "model.load_state_dict(torch.load('trained_model.pth'))  # Load the trained model"
   ]
  },
  {
   "cell_type": "code",
   "execution_count": 22,
   "id": "6e50a2ad",
   "metadata": {},
   "outputs": [
    {
     "name": "stdout",
     "output_type": "stream",
     "text": [
      "Epoch [1/50], Loss: 828.0715\n",
      "Epoch [2/50], Loss: 826.0165\n",
      "Epoch [3/50], Loss: 822.7319\n",
      "Epoch [4/50], Loss: 820.0088\n",
      "Epoch [5/50], Loss: 817.5357\n",
      "Epoch [6/50], Loss: 814.7845\n",
      "Epoch [7/50], Loss: 811.9142\n",
      "Epoch [8/50], Loss: 809.1747\n",
      "Epoch [9/50], Loss: 806.5923\n",
      "Epoch [10/50], Loss: 804.0026\n",
      "Epoch [11/50], Loss: 801.3045\n",
      "Epoch [12/50], Loss: 798.5524\n",
      "Epoch [13/50], Loss: 795.8453\n",
      "Epoch [14/50], Loss: 793.2200\n",
      "Epoch [15/50], Loss: 790.6262\n",
      "Epoch [16/50], Loss: 787.9961\n",
      "Epoch [17/50], Loss: 785.3228\n",
      "Epoch [18/50], Loss: 782.6535\n",
      "Epoch [19/50], Loss: 780.0291\n",
      "Epoch [20/50], Loss: 777.4426\n",
      "Epoch [21/50], Loss: 774.8539\n",
      "Epoch [22/50], Loss: 772.2390\n",
      "Epoch [23/50], Loss: 769.6124\n",
      "Epoch [24/50], Loss: 767.0043\n",
      "Epoch [25/50], Loss: 764.4268\n",
      "Epoch [26/50], Loss: 761.8631\n",
      "Epoch [27/50], Loss: 759.2913\n",
      "Epoch [28/50], Loss: 756.7092\n",
      "Epoch [29/50], Loss: 754.1340\n",
      "Epoch [30/50], Loss: 751.5793\n",
      "Epoch [31/50], Loss: 749.0408\n",
      "Epoch [32/50], Loss: 746.5030\n",
      "Epoch [33/50], Loss: 743.9597\n",
      "Epoch [34/50], Loss: 741.4193\n",
      "Epoch [35/50], Loss: 738.8926\n",
      "Epoch [36/50], Loss: 736.3802\n",
      "Epoch [37/50], Loss: 733.8728\n",
      "Epoch [38/50], Loss: 731.3646\n",
      "Epoch [39/50], Loss: 728.8596\n",
      "Epoch [40/50], Loss: 726.3654\n",
      "Epoch [41/50], Loss: 723.8827\n",
      "Epoch [42/50], Loss: 721.4058\n",
      "Epoch [43/50], Loss: 718.9306\n",
      "Epoch [44/50], Loss: 716.4597\n",
      "Epoch [45/50], Loss: 713.9980\n",
      "Epoch [46/50], Loss: 711.5460\n",
      "Epoch [47/50], Loss: 709.0997\n",
      "Epoch [48/50], Loss: 706.6569\n",
      "Epoch [49/50], Loss: 704.2197\n",
      "Epoch [50/50], Loss: 701.7910\n"
     ]
    }
   ],
   "source": [
    "# Training loop\n",
    "num_epochs = 50\n",
    "for epoch in range(num_epochs):\n",
    "    optimizer.zero_grad()\n",
    "    predictions = model(input_tensor)\n",
    "    loss = criterion(predictions, target_tensor)\n",
    "    loss.backward()\n",
    "    optimizer.step()\n",
    "    print(f\"Epoch [{epoch+1}/{num_epochs}], Loss: {loss.item():.4f}\")\n"
   ]
  },
  {
   "cell_type": "code",
   "execution_count": 23,
   "id": "3921d6c2",
   "metadata": {},
   "outputs": [],
   "source": [
    "# Save the trained model\n",
    "torch.save(model.state_dict(), 'trained_model.pth')"
   ]
  },
  {
   "cell_type": "code",
   "execution_count": 24,
   "id": "948b2d45",
   "metadata": {},
   "outputs": [],
   "source": [
    "# Set the model to evaluation mode\n",
    "model.eval()\n",
    "\n",
    "# Make predictions on the test data\n",
    "with torch.no_grad():\n",
    "    test_outputs_pred = model(X_test)\n",
    "    "
   ]
  },
  {
   "cell_type": "code",
   "execution_count": 25,
   "id": "34efdeda",
   "metadata": {},
   "outputs": [],
   "source": [
    "# Convert predictions and actual values to NumPy arrays\n",
    "test_outputs_pred = test_outputs_pred.numpy()\n",
    "y_test = y_test.numpy()"
   ]
  },
  {
   "cell_type": "code",
   "execution_count": 26,
   "id": "43516d5d",
   "metadata": {},
   "outputs": [
    {
     "data": {
      "image/png": "[encoded data removed]",
      "text/plain": [
       "<Figure size 1000x600 with 1 Axes>"
      ]
     },
     "metadata": {},
     "output_type": "display_data"
    }
   ],
   "source": [
    "# Plot the actual vs. predicted values\n",
    "plt.figure(figsize=(10, 6))\n",
    "plt.plot(y_test, label='Actual')\n",
    "plt.plot(test_outputs_pred, label='Predicted')\n",
    "plt.xlabel('Sample')\n",
    "plt.ylabel('Value')\n",
    "plt.title('Actual vs. Predicted Values')\n",
    "plt.legend()\n",
    "plt.grid(True)\n",
    "plt.show()"
   ]
  },
  {
   "cell_type": "markdown",
   "id": "cc45e0c1",
   "metadata": {},
   "source": [
    "First Model (Demand vs OAT):\n",
    "* Data Preparation: Manually convert input and output data from NumPy arrays to PyTorch tensors. It also splits the data into training and testing sets using slicing. ",
    "\n",
    "* Model Architecture: It defines a neural network model called SimpleNN with two fully connected layers. ",
    "\n",
    "* Training Loop: The code includes a manual training loop where it computes gradients, updates model weights, and prints the loss for a specified number of epochs (100 in this case). ",
    "\n",
    "\n",
    "Second Model (all inputs):\n",
    "* Data Preparation: We use a DataFrame to load and preprocess the data. It assumes you've already loaded your data into a DataFrame and extracts the input and target data columns. ",
    "\n",
    "* Model Architecture: It defines a neural network model called SimpleModel with a single linear layer. ",
    "\n",
    "* Training Loop: The code includes a training loop where it computes gradients, updates model weights, and prints the loss for a specified number of epochs (50 in this case). ",
    "\n",
    "* Data Loading: Model two uses PyTorch's DataLoader and TensorDataset for loading and handling the data, which can be advantageous when working with larger datasets and batch training. ",
    "\n",
    "\n",
    "Overall, the first model is a more manual approach to training a neural network and might be suitable for simple cases, while model two follows a more structured and PyTorch-centric approach, which is often preferred for more complex tasks and larger datasets.\n"
   ]
  },
  {
   "cell_type": "markdown",
   "id": "879f0ccb",
   "metadata": {},
   "source": [
    "## Hyperparameter Tuning"
   ]
  },
  {
   "cell_type": "code",
   "execution_count": 11,
   "id": "77ff1728",
   "metadata": {},
   "outputs": [
    {
     "name": "stdout",
     "output_type": "stream",
     "text": [
      "Learning Rate: 0.001, Hidden Size: 32, Test Loss: 0.1005619689822197\n",
      "Learning Rate: 0.001, Hidden Size: 64, Test Loss: 0.08598145842552185\n",
      "Learning Rate: 0.001, Hidden Size: 128, Test Loss: 0.02659362368285656\n",
      "Learning Rate: 0.01, Hidden Size: 32, Test Loss: 0.016037365421652794\n",
      "Learning Rate: 0.01, Hidden Size: 64, Test Loss: 0.013945506885647774\n",
      "Learning Rate: 0.01, Hidden Size: 128, Test Loss: 0.008584276773035526\n",
      "Learning Rate: 0.1, Hidden Size: 32, Test Loss: 0.00792649295181036\n",
      "Learning Rate: 0.1, Hidden Size: 64, Test Loss: 0.01561722718179226\n",
      "Learning Rate: 0.1, Hidden Size: 128, Test Loss: 0.016197770833969116\n",
      "*End*\n",
      "   Predicted    Actual\n",
      "0   0.490429  0.563295\n",
      "1   0.539788  0.591512\n",
      "2   0.574790  0.625586\n",
      "3   0.585421  0.623049\n",
      "4   0.557242  0.582843\n"
     ]
    }
   ],
   "source": [
    "from torch.utils.data import DataLoader, TensorDataset\n",
    "from sklearn.model_selection import train_test_split\n",
    "from sklearn.metrics import mean_squared_error\n",
    "\n",
    "df = df.dropna()\n",
    "inputs = df[['aiTIT4045']].values\n",
    "outputs = df[['CCAH_ChilledWater_Demand_kBtu']].values\n",
    "\n",
    "#Normalizing the data (scaling inputs to a range of 0 to 1)\n",
    "inputs = (inputs - inputs.min()) / (inputs.max() - inputs.min())\n",
    "outputs2 = (outputs - outputs.min()) / (outputs.max() - outputs.min())\n",
    "\n",
    "#Convert numpy arrays to PyTorch tensors\n",
    "inputs = torch.FloatTensor(inputs)\n",
    "outputs2 = torch.FloatTensor(outputs2)\n",
    "\n",
    "#Splitting the data into training and testing sets (80% train, 20% test)\n",
    "train_size = int(0.8 * len(inputs))\n",
    "train_inputs, test_inputs = inputs[:train_size], inputs[train_size:]\n",
    "train_outputs, test_outputs = outputs2[:train_size], outputs2[train_size:]\n",
    "\n",
    "#Define a neural network model\n",
    "class SimpleNN(nn.Module):\n",
    "    def __init__(self, input_size, hidden_size):\n",
    "        super(SimpleNN, self).__init__()\n",
    "        self.fc1 = nn.Linear(input_size, hidden_size)\n",
    "        self.relu = nn.ReLU()\n",
    "        self.fc2 = nn.Linear(hidden_size, 1)\n",
    "\n",
    "    def forward(self, x):\n",
    "        x = self.relu(self.fc1(x))\n",
    "        x = self.fc2(x)\n",
    "        return x\n",
    "\n",
    "#Hyperparameter grid search\n",
    "learning_rates = [0.001, 0.01, 0.1]\n",
    "hidden_sizes = [32, 64, 128]\n",
    "\n",
    "best_model = None\n",
    "best_loss = float('inf')\n",
    "\n",
    "for lr in learning_rates:\n",
    "    for hidden_size in hidden_sizes:\n",
    "        model = SimpleNN(input_size=1, hidden_size=hidden_size)\n",
    "        criterion = nn.MSELoss()\n",
    "        optimizer = optim.Adam(model.parameters(), lr=lr)\n",
    "\n",
    "        #Training loop\n",
    "        epochs = 100\n",
    "        for epoch in range(epochs):\n",
    "            optimizer.zero_grad()\n",
    "            outputs = model(train_inputs)\n",
    "            loss = criterion(outputs, train_outputs)\n",
    "            loss.backward()\n",
    "            optimizer.step()\n",
    "\n",
    "        #Evaluate on the test set\n",
    "        with torch.no_grad():\n",
    "            test_outputs_pred = model(test_inputs)\n",
    "            test_outputs_pred = (test_outputs_pred * (outputs.max() - outputs.min())) + outputs.min()\n",
    "            test_loss = criterion(test_outputs_pred, test_outputs)\n",
    "\n",
    "        #Update best model if the current one is better\n",
    "        if test_loss < best_loss:\n",
    "            best_loss = test_loss\n",
    "            best_model = model\n",
    "\n",
    "        print(f\"Learning Rate: {lr}, Hidden Size: {hidden_size}, Test Loss: {test_loss.item()}\")\n",
    "\n",
    "print(\"*End*\")\n",
    "\n",
    "#Display the first few predictions and actual values using the best model\n",
    "best_model.eval()\n",
    "with torch.no_grad():\n",
    "    test_outputs_pred = best_model(test_inputs)\n",
    "    test_outputs_pred = (test_outputs_pred * (outputs.max() - outputs.min())) + outputs.min()\n",
    "\n",
    "predictions_df = pd.DataFrame({'Predicted': test_outputs_pred.view(-1).detach().numpy(),\n",
    "                               'Actual': test_outputs.view(-1).detach().numpy()})\n",
    "print(predictions_df.head())\n"
   ]
  },
  {
   "cell_type": "code",
   "execution_count": 35,
   "id": "a581864d",
   "metadata": {},
   "outputs": [
    {
     "ename": "TypeError",
     "evalue": "__init__() missing 2 required positional arguments: 'input_size' and 'hidden_size'",
     "output_type": "error",
     "traceback": [
      "\u001b[0;31m---------------------------------------------------------------------------\u001b[0m",
      "\u001b[0;31mTypeError\u001b[0m                                 Traceback (most recent call last)",
      "\u001b[0;32m/var/folders/53/8t6dgh1x2jq_233lw32zczvr0000gn/T/ipykernel_78177/4191040922.py\u001b[0m in \u001b[0;36m<module>\u001b[0;34m\u001b[0m\n\u001b[1;32m      1\u001b[0m \u001b[0;32mfrom\u001b[0m \u001b[0mtorchviz\u001b[0m \u001b[0;32mimport\u001b[0m \u001b[0mmake_dot\u001b[0m\u001b[0;34m\u001b[0m\u001b[0;34m\u001b[0m\u001b[0m\n\u001b[1;32m      2\u001b[0m \u001b[0;34m\u001b[0m\u001b[0m\n\u001b[0;32m----> 3\u001b[0;31m \u001b[0mmodel\u001b[0m \u001b[0;34m=\u001b[0m \u001b[0mSimpleModel\u001b[0m\u001b[0;34m(\u001b[0m\u001b[0;34m)\u001b[0m\u001b[0;34m\u001b[0m\u001b[0;34m\u001b[0m\u001b[0m\n\u001b[0m\u001b[1;32m      4\u001b[0m \u001b[0moutput_tensor\u001b[0m \u001b[0;34m=\u001b[0m \u001b[0mmodel\u001b[0m\u001b[0;34m(\u001b[0m\u001b[0minput_tensor\u001b[0m\u001b[0;34m)\u001b[0m\u001b[0;34m\u001b[0m\u001b[0;34m\u001b[0m\u001b[0m\n",
      "\u001b[0;31mTypeError\u001b[0m: __init__() missing 2 required positional arguments: 'input_size' and 'hidden_size'"
     ]
    }
   ],
   "source": []
  },
  {
   "cell_type": "markdown",
   "id": "12ce8f16",
   "metadata": {},
   "source": [
    "Learning Rates:\n",
    "0.001: This learning rate was too small and resulted in slower learning. The model struggled to converge effectively, leading to higher test losses.\n",
    "0.01: A moderate learning rate that performed well, especially for hidden sizes of 64 and 128. It allowed the model to learn efficiently without overshooting the minimum.\n",
    "0.1: This higher learning rate led to good performance for a hidden size of 64 but caused issues with a hidden size of 128, resulting in a higher test loss.\n",
    "\n",
    "Hidden Sizes:\n",
    "32, 64, 128: These are the sizes of the hidden layers in our neural network. Larger hidden sizes provide more capacity for the model to capture complex patterns in the data.\n",
    "Results: Generally, larger hidden sizes (64 and 128) performed better, particularly when paired with a learning rate of 0.01. The model with a hidden size of 128 achieved the lowest test loss.\n",
    "\n",
    "Best Model:\n",
    "The combination of a learning rate of 0.01 and a hidden size of 128 resulted in the lowest test loss (0.0056).\n",
    "This set of hyperparameters demonstrated the best generalization to new data, which is crucial for the success of our model.\n",
    "\n",
    "Predictions:\n",
    "It is crucial to find a balance where the model is not underfitting (high training loss) or overfitting (low training loss but poor generalization to new data). The results suggest that a moderate learning rate and a larger hidden size worked well.\n"
   ]
  },
  {
   "cell_type": "code",
   "execution_count": 27,
   "id": "adec4b7b",
   "metadata": {},
   "outputs": [
    {
     "name": "stdout",
     "output_type": "stream",
     "text": [
      "Learning Rate: 0.001, Hidden Size: 32, Test Loss: 0.15532270073890686\n",
      "Learning Rate: 0.001, Hidden Size: 64, Test Loss: 0.0577046275138855\n",
      "Learning Rate: 0.001, Hidden Size: 128, Test Loss: 0.033933792263269424\n",
      "Learning Rate: 0.01, Hidden Size: 32, Test Loss: 0.010112600401043892\n",
      "Learning Rate: 0.01, Hidden Size: 64, Test Loss: 0.005679321475327015\n",
      "Learning Rate: 0.01, Hidden Size: 128, Test Loss: 0.00340256211347878\n",
      "Learning Rate: 0.1, Hidden Size: 32, Test Loss: 0.004660871345549822\n",
      "Learning Rate: 0.1, Hidden Size: 64, Test Loss: 0.010934002697467804\n",
      "Learning Rate: 0.1, Hidden Size: 128, Test Loss: 0.027103686705231667\n",
      "*End*\n"
     ]
    }
   ],
   "source": [
    "from torch.utils.data import TensorDataset, DataLoader\n",
    "from sklearn.model_selection import train_test_split\n",
    "from sklearn.metrics import mean_squared_error\n",
    "from sklearn.preprocessing import StandardScaler\n",
    "\n",
    "#Preprocess the data\n",
    "input_data = df[['Demand', 'OAT', 'CDH', 'HDH', 'month_0', 'month_1', 'month_2',\n",
    "       'month_3', 'month_4', 'month_5', 'month_6', 'month_7', 'month_8',\n",
    "       'month_9', 'month_10', 'month_11', 'hour_0', 'hour_1', 'hour_2',\n",
    "       'hour_3', 'hour_4', 'hour_5', 'hour_6', 'hour_7', 'hour_8', 'hour_9',\n",
    "       'hour_10', 'hour_11', 'hour_12', 'hour_13', 'hour_14', 'hour_15',\n",
    "       'hour_16', 'hour_17', 'hour_18', 'hour_19', 'hour_20', 'hour_21',\n",
    "       'hour_22', 'hour_23', 'day_0', 'day_1', 'day_2', 'day_3', 'day_4',\n",
    "       'day_5', 'day_6']].values\n",
    "\n",
    "target_data = df['OAT'].values  \n",
    "\n",
    "#Normalize the data\n",
    "scaler = StandardScaler()\n",
    "input_data = scaler.fit_transform(input_data)\n",
    "target_data = scaler.fit_transform(target_data.reshape(-1, 1))\n",
    "\n",
    "#Convert to PyTorch tensors\n",
    "input_tensor = torch.tensor(input_data, dtype=torch.float32)\n",
    "target_tensor = torch.tensor(target_data, dtype=torch.float32).view(-1, 1)\n",
    "\n",
    "#Split the data into training and testing sets\n",
    "X_train, X_test, y_train, y_test = train_test_split(input_tensor, target_tensor, test_size=0.2, random_state=42)\n",
    "\n",
    "#Neural network model\n",
    "class SimpleModel(nn.Module):\n",
    "    def __init__(self, input_size, hidden_size):\n",
    "        super(SimpleModel, self).__init__()\n",
    "        self.fc1 = nn.Linear(input_size, hidden_size)\n",
    "        self.relu = nn.ReLU()\n",
    "        self.fc2 = nn.Linear(hidden_size, 1)\n",
    "    \n",
    "    def forward(self, x):\n",
    "        x = self.relu(self.fc1(x))\n",
    "        x = self.fc2(x)\n",
    "        return x\n",
    "\n",
    "#Hyperparameter grid search\n",
    "learning_rates = [0.001, 0.01, 0.1]\n",
    "hidden_sizes = [32, 64, 128]\n",
    "\n",
    "best_model = None\n",
    "best_loss = float('inf')\n",
    "\n",
    "for lr in learning_rates:\n",
    "    for hidden_size in hidden_sizes:\n",
    "        model = SimpleModel(input_size=input_data.shape[1], hidden_size=hidden_size)\n",
    "        criterion = nn.MSELoss()\n",
    "        optimizer = optim.Adam(model.parameters(), lr=lr)\n",
    "\n",
    "        #Training loop\n",
    "        num_epochs = 50\n",
    "        for epoch in range(num_epochs):\n",
    "            optimizer.zero_grad()\n",
    "            predictions = model(X_train)\n",
    "            loss = criterion(predictions, y_train)\n",
    "            loss.backward()\n",
    "            optimizer.step()\n",
    "\n",
    "        #Evaluate on the test set\n",
    "        with torch.no_grad():\n",
    "            test_predictions = model(X_test)\n",
    "            test_loss = criterion(test_predictions, y_test)\n",
    "\n",
    "        #Update best model if the current one is better\n",
    "        if test_loss < best_loss:\n",
    "            best_loss = test_loss\n",
    "            best_model = model\n",
    "\n",
    "        print(f\"Learning Rate: {lr}, Hidden Size: {hidden_size}, Test Loss: {test_loss.item()}\")\n",
    "\n",
    "print(\"*End*\")\n",
    "\n",
    "#Save\n",
    "torch.save(best_model.state_dict(), 'best_model.pth')\n"
   ]
  },
  {
   "cell_type": "code",
   "execution_count": null,
   "id": "b988a072",
   "metadata": {},
   "outputs": [],
   "source": []
  }
 ],
 "metadata": {
  "kernelspec": {
   "display_name": "Python 3 (ipykernel)",
   "language": "python",
   "name": "python3"
  },
  "language_info": {
   "codemirror_mode": {
    "name": "ipython",
    "version": 3
   },
   "file_extension": ".py",
   "mimetype": "text/x-python",
   "name": "python",
   "nbconvert_exporter": "python",
   "pygments_lexer": "ipython3",
   "version": "3.9.13"
  }
 },
 "nbformat": 4,
 "nbformat_minor": 5
}
